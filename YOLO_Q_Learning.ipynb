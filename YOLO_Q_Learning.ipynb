{
  "nbformat": 4,
  "nbformat_minor": 0,
  "metadata": {
    "kernelspec": {
      "language": "python",
      "display_name": "Python 3",
      "name": "python3"
    },
    "language_info": {
      "name": "python",
      "version": "3.7.10",
      "mimetype": "text/x-python",
      "codemirror_mode": {
        "name": "ipython",
        "version": 3
      },
      "pygments_lexer": "ipython3",
      "nbconvert_exporter": "python",
      "file_extension": ".py"
    },
    "colab": {
      "name": "YOLO_Q_Learning.ipynb",
      "provenance": [],
      "collapsed_sections": []
    },
    "accelerator": "GPU"
  },
  "cells": [
    {
      "cell_type": "code",
      "metadata": {
        "execution": {
          "iopub.status.busy": "2021-08-09T16:23:32.839601Z",
          "iopub.execute_input": "2021-08-09T16:23:32.840220Z",
          "iopub.status.idle": "2021-08-09T16:23:32.846437Z",
          "shell.execute_reply.started": "2021-08-09T16:23:32.840177Z",
          "shell.execute_reply": "2021-08-09T16:23:32.845620Z"
        },
        "trusted": true,
        "id": "pa2yaJJ7w_k3"
      },
      "source": [
        "import torch\n",
        "import torch.nn as nn\n",
        "from torch.optim import SGD\n",
        "from torch.utils.data import DataLoader\n",
        "from shapely.geometry import Polygon\n",
        "import os\n",
        "import PIL\n",
        "import pandas as pd\n",
        "import numpy as np"
      ],
      "execution_count": null,
      "outputs": []
    },
    {
      "cell_type": "markdown",
      "metadata": {
        "id": "hxwCpqubyVDZ"
      },
      "source": [
        "Initializing the pre-trained model\n"
      ]
    },
    {
      "cell_type": "code",
      "metadata": {
        "execution": {
          "iopub.status.busy": "2021-08-09T16:23:33.023020Z",
          "iopub.execute_input": "2021-08-09T16:23:33.023668Z",
          "iopub.status.idle": "2021-08-09T16:23:33.316643Z",
          "shell.execute_reply.started": "2021-08-09T16:23:33.023615Z",
          "shell.execute_reply": "2021-08-09T16:23:33.315488Z"
        },
        "trusted": true,
        "id": "4DmS8z8cw_k4"
      },
      "source": [
        "yolo = torch.hub.load('ultralytics/yolov5','custom', path = 'Path of your pre-trained model')"
      ],
      "execution_count": null,
      "outputs": []
    },
    {
      "cell_type": "markdown",
      "metadata": {
        "id": "__CpH6ZMPg8q"
      },
      "source": [
        "Path to the dataset"
      ]
    },
    {
      "cell_type": "code",
      "metadata": {
        "execution": {
          "iopub.status.busy": "2021-08-09T16:23:35.685818Z",
          "iopub.execute_input": "2021-08-09T16:23:35.686266Z",
          "iopub.status.idle": "2021-08-09T16:23:35.690697Z",
          "shell.execute_reply.started": "2021-08-09T16:23:35.686219Z",
          "shell.execute_reply": "2021-08-09T16:23:35.689804Z"
        },
        "trusted": true,
        "id": "G-4q-Xraw_k8"
      },
      "source": [
        "# all images path\n",
        "base_img_train_path = 'Training image folder'\n",
        "base_label_train_path = 'Lable folder of training image'\n",
        "base_img_test_path = 'Testing image folder'\n",
        "base_label_test_path = 'Lable folder for testing images'"
      ],
      "execution_count": null,
      "outputs": []
    },
    {
      "cell_type": "markdown",
      "metadata": {
        "id": "Xp5EKqIyPoFo"
      },
      "source": [
        "Function to get the ground truth co-ordinates of bounding boxes in numpy array."
      ]
    },
    {
      "cell_type": "code",
      "metadata": {
        "execution": {
          "iopub.status.busy": "2021-08-09T16:23:36.574396Z",
          "iopub.execute_input": "2021-08-09T16:23:36.574931Z",
          "iopub.status.idle": "2021-08-09T16:23:36.580464Z",
          "shell.execute_reply.started": "2021-08-09T16:23:36.574897Z",
          "shell.execute_reply": "2021-08-09T16:23:36.579750Z"
        },
        "trusted": true,
        "id": "YaolaPqnw_k9"
      },
      "source": [
        "def get_labels_into_pandas(img,base_label_path):\n",
        "    img = img[:len(img)-3]+'txt'\n",
        "    path = base_label_path+img\n",
        "    df = pd.read_csv(path,delimiter = ' ',header  = None)\n",
        "    df.drop(0, inplace=True, axis=1)\n",
        "    return np.array(df)"
      ],
      "execution_count": null,
      "outputs": []
    },
    {
      "cell_type": "markdown",
      "metadata": {
        "id": "I2FYygr5QEMh"
      },
      "source": [
        "Function to get the results from YOLOV5 pre trained model"
      ]
    },
    {
      "cell_type": "code",
      "metadata": {
        "execution": {
          "iopub.status.busy": "2021-08-09T16:23:37.449460Z",
          "iopub.execute_input": "2021-08-09T16:23:37.450085Z",
          "iopub.status.idle": "2021-08-09T16:23:37.455936Z",
          "shell.execute_reply.started": "2021-08-09T16:23:37.450052Z",
          "shell.execute_reply": "2021-08-09T16:23:37.454982Z"
        },
        "trusted": true,
        "id": "Lzp3ADNyw_k_"
      },
      "source": [
        "def get_yolo_results(img,base_img_path):\n",
        "    result = yolo(base_img_path+img)\n",
        "    df = result.pandas().xywhn[0]\n",
        "    df.drop('confidence',inplace = True,axis = 1)\n",
        "    df.drop('class',inplace = True,axis = 1)\n",
        "    df.drop('name',inplace = True,axis = 1)\n",
        "    return np.array(df)"
      ],
      "execution_count": null,
      "outputs": []
    },
    {
      "cell_type": "markdown",
      "metadata": {
        "id": "58ykptbVQkNl"
      },
      "source": [
        "This function sorts ground truth labels according to the results we get whiles passing images to YOLOV5 model; such that absolute distance between ground truth and prediction in minimum."
      ]
    },
    {
      "cell_type": "code",
      "metadata": {
        "execution": {
          "iopub.status.busy": "2021-08-09T16:23:38.109487Z",
          "iopub.execute_input": "2021-08-09T16:23:38.110068Z",
          "iopub.status.idle": "2021-08-09T16:23:38.117734Z",
          "shell.execute_reply.started": "2021-08-09T16:23:38.110030Z",
          "shell.execute_reply": "2021-08-09T16:23:38.116656Z"
        },
        "trusted": true,
        "id": "j0QGSJ_ow_lA"
      },
      "source": [
        "def get_sorted(x,y):\n",
        "    res = []\n",
        "    for i in x:\n",
        "        min_diff = 100000\n",
        "        im = y[0]\n",
        "        for j in y:\n",
        "            diff = abs(i[0]-j[0])+abs(i[1]-j[1])+abs(i[2]-j[2])+abs(i[3]-j[3])\n",
        "            if(diff<min_diff):\n",
        "                min_diff = diff\n",
        "                im = j\n",
        "        res.append(im)\n",
        "    return np.array(res)"
      ],
      "execution_count": null,
      "outputs": []
    },
    {
      "cell_type": "markdown",
      "metadata": {
        "id": "TAtc8763Q9A8"
      },
      "source": [
        "Function to compute Intersection of Union"
      ]
    },
    {
      "cell_type": "code",
      "metadata": {
        "execution": {
          "iopub.status.busy": "2021-08-09T16:23:44.061456Z",
          "iopub.execute_input": "2021-08-09T16:23:44.061904Z",
          "iopub.status.idle": "2021-08-09T16:23:44.070599Z",
          "shell.execute_reply.started": "2021-08-09T16:23:44.061866Z",
          "shell.execute_reply": "2021-08-09T16:23:44.069447Z"
        },
        "trusted": true,
        "id": "vQDyyOG_w_lA"
      },
      "source": [
        "def compute_IOU(b1,b2):\n",
        "    xmin1,xmax1,ymin1,ymax1 = b1[0],b1[1],b1[2],b1[3]\n",
        "    xmin2,xmax2,ymin2,ymax2 = b2[0],b2[1],b2[2],b2[3]\n",
        "    p1 = Polygon([[xmin1,ymin1],[xmax1,ymin1],[xmax1,ymax1],[xmin1,ymax1]])\n",
        "    p2 = Polygon([[xmin2,ymin2],[xmax2,ymin2],[xmax2,ymax2],[xmin2,ymax2]])\n",
        "    a = p1.intersection(p2).area\n",
        "    b = p1.union(p2).area\n",
        "    if(b!=0):\n",
        "      iou = a / b\n",
        "      return iou\n",
        "    else:\n",
        "      return 0"
      ],
      "execution_count": null,
      "outputs": []
    },
    {
      "cell_type": "markdown",
      "metadata": {
        "id": "o-E3puEhRCdF"
      },
      "source": [
        "Function to transform labels from : [ x_center, y_center, width, height ] to => [ x_min, x_max, y_min, y_max ] "
      ]
    },
    {
      "cell_type": "code",
      "metadata": {
        "execution": {
          "iopub.status.busy": "2021-08-09T16:23:44.078164Z",
          "iopub.execute_input": "2021-08-09T16:23:44.078751Z",
          "iopub.status.idle": "2021-08-09T16:23:44.089364Z",
          "shell.execute_reply.started": "2021-08-09T16:23:44.078713Z",
          "shell.execute_reply": "2021-08-09T16:23:44.088502Z"
        },
        "trusted": true,
        "id": "78wSMH0xw_lB"
      },
      "source": [
        "def transform_y(y,w,h):\n",
        "    y[:,0] *= w\n",
        "    y[:,1] *= h\n",
        "    y[:,2] *= w\n",
        "    y[:,3] *= h\n",
        "    for i in range(len(y)):\n",
        "        xmin = y[i][0]-(y[i][2]/2)\n",
        "        xmax = y[i][0]+(y[i][2]/2)\n",
        "        ymin = y[i][1]-(y[1][3]/2)\n",
        "        ymax = y[i][1]-(y[1][3]/2)\n",
        "        y[i][0],y[i][1],y[i][2],y[i][3] = xmin/w,xmax/w,ymin/h,ymax/h\n",
        "    return y"
      ],
      "execution_count": null,
      "outputs": []
    },
    {
      "cell_type": "markdown",
      "metadata": {
        "id": "5vm-JfG1ReFF"
      },
      "source": [
        "Function to write results we get from DeepQNetwork to csv"
      ]
    },
    {
      "cell_type": "code",
      "metadata": {
        "id": "HkJHhX4JL4mz"
      },
      "source": [
        "def write_csv(full_y,img):\n",
        "  img = img[:len(img)-3]+'csv'\n",
        "  path = 'Path where you wan to save the results'+img\n",
        "  df = pd.DataFrame(full_y)\n",
        "  df.to_csv(path,index = False)"
      ],
      "execution_count": null,
      "outputs": []
    },
    {
      "cell_type": "markdown",
      "metadata": {
        "id": "FCnRoX-MRuhC"
      },
      "source": [
        "This function computes minimum squared error"
      ]
    },
    {
      "cell_type": "code",
      "metadata": {
        "id": "Fht9QKuqKrme"
      },
      "source": [
        "def get_mse(y1,y2):\n",
        "    s = 0\n",
        "    for i in range(len(y1)):\n",
        "        s = (y1[i] - y2[i])**2\n",
        "    return s/len(y1)"
      ],
      "execution_count": null,
      "outputs": []
    },
    {
      "cell_type": "markdown",
      "metadata": {
        "id": "6pF8dCz8zOf4"
      },
      "source": [
        "Defining the Deep Q Network network"
      ]
    },
    {
      "cell_type": "code",
      "metadata": {
        "execution": {
          "iopub.status.busy": "2021-08-09T16:23:44.126390Z",
          "iopub.execute_input": "2021-08-09T16:23:44.126802Z",
          "iopub.status.idle": "2021-08-09T16:23:44.141472Z",
          "shell.execute_reply.started": "2021-08-09T16:23:44.126765Z",
          "shell.execute_reply": "2021-08-09T16:23:44.140268Z"
        },
        "trusted": true,
        "id": "hwdq3IZ4w_lE"
      },
      "source": [
        "class DeepQNetwork(nn.Module):\n",
        "    def __init__(self):\n",
        "        super(DeepQNetwork, self).__init__()\n",
        "        self.hidden1 = nn.Linear(5,100)\n",
        "        nn.init.xavier_uniform_(self.hidden1.weight)\n",
        "        self.activation1 = nn.Tanh()\n",
        "        self.d1 = nn.Dropout(p = 0.2)\n",
        "        self.hidden2 = nn.Linear(100,1000)\n",
        "        nn.init.xavier_uniform_(self.hidden2.weight)\n",
        "        self.activation2= nn.Tanh()\n",
        "        self.d2 = nn.Dropout(p = 0.2)\n",
        "        self.hidden3= nn.Linear(1000,4)\n",
        "        nn.init.xavier_uniform_(self.hidden3.weight)\n",
        "        self.activation3 = nn.Tanh()\n",
        "        \n",
        "    def forward(self,X):\n",
        "        X = self.hidden1(X)\n",
        "        X = self.activation1(X)\n",
        "        X = self.d1(X)\n",
        "        X = self.hidden2(X)\n",
        "        X = self.activation2(X)\n",
        "        X = self.d2(X)\n",
        "        X = self.hidden3(X)\n",
        "        X = self.activation3(X)\n",
        "        return X"
      ],
      "execution_count": null,
      "outputs": []
    },
    {
      "cell_type": "markdown",
      "metadata": {
        "id": "hrRxl33SRxYn"
      },
      "source": [
        "Function to train the model"
      ]
    },
    {
      "cell_type": "code",
      "metadata": {
        "execution": {
          "iopub.status.busy": "2021-08-09T16:33:33.233592Z",
          "iopub.execute_input": "2021-08-09T16:33:33.233985Z",
          "iopub.status.idle": "2021-08-09T16:33:33.246489Z",
          "shell.execute_reply.started": "2021-08-09T16:33:33.233953Z",
          "shell.execute_reply": "2021-08-09T16:33:33.245598Z"
        },
        "trusted": true,
        "id": "S-X7bk2pw_lE"
      },
      "source": [
        "def train(model):\n",
        "    loss_l = []\n",
        "    mse = nn.MSELoss()\n",
        "    opt = SGD(model.parameters(),lr = 0.01,momentum = 0.9)\n",
        "    cnt = 0\n",
        "    img_list = os.listdir(base_img_train_path)\n",
        "    loss_list = []\n",
        "    for img in img_list:\n",
        "        w,h = PIL.Image.open(base_img_path+img).size\n",
        "        x = torch.from_numpy(get_yolo_results(img,base_img_train_path))\n",
        "        y = get_sorted(x,get_labels_into_pandas(img,base_img_train_path))\n",
        "        y = transform_y(y,w,h)\n",
        "        y = torch.from_numpy(y)\n",
        "        reward = torch.tensor([1])\n",
        "        if (len(x)!=0 and len(y)!=0):\n",
        "            for epoch in range(1):\n",
        "                for i in range(len(x)):\n",
        "                    opt.zero_grad()\n",
        "                    new_x = torch.cat((x[i],reward))\n",
        "                    yhat = model(new_x.float())\n",
        "                    loss = mse(yhat.float(),y[i].float())\n",
        "                    loss.backward()\n",
        "                    iou = compute_IOU(yhat,y[i])\n",
        "                    if(iou>0.8):\n",
        "                        reward = torch.tensor([1])\n",
        "                    else:\n",
        "                        reward = torch.tensor([-1])\n",
        "                    opt.step()\n",
        "        loss_list.append(loss)\n",
        "        if(cnt%200==0):\n",
        "            print('Training sample = ',cnt)\n",
        "            print('loss = ',loss)\n",
        "        cnt+=1\n",
        "    torch.save(model.state_dict(),'/content/drive/MyDrive/DenseQNet.pt')\n",
        "    loss_df = pd.DataFrame(loss_list)\n",
        "    loss_df.to_csv('/content/drive/MyDrive/loss.csv',index = False)"
      ],
      "execution_count": null,
      "outputs": []
    },
    {
      "cell_type": "markdown",
      "metadata": {
        "id": "Zv3xCjnCR1s5"
      },
      "source": [
        "Funcion to test the model. It stores co-ordinates of bounding box to a csv file."
      ]
    },
    {
      "cell_type": "code",
      "metadata": {
        "id": "bkDSPa6gKuGq"
      },
      "source": [
        "def test(model):\n",
        "  mse_l = []\n",
        "  iou_l = []\n",
        "  img_list = os.listdir(base_img_test_path)\n",
        "  cnt = 0\n",
        "  for img in img_list:\n",
        "    w,h = PIL.Image.open(base_img_test_path+img).size\n",
        "    x = torch.from_numpy(get_yolo_results(img,base_img_test_path))\n",
        "    y_org = get_sorted(x,get_labels_into_pandas(img,base_label_test_path))\n",
        "    y = transform_y(y_org,w,h)\n",
        "    y = torch.from_numpy(y)\n",
        "    reward = torch.tensor([1])\n",
        "    iou = mse = 0\n",
        "    full_y = []\n",
        "    if (len(x)!=0 and len(y)!=0):\n",
        "        for i in range(len(x)):\n",
        "            new_x = torch.cat((x[i],reward))\n",
        "            yhat = model(new_x.float())\n",
        "            mse += get_mse(yhat,y[i]).float()\n",
        "            iou += compute_IOU(y_org[i],x[i])\n",
        "            full_y.append(list(map(abs,yhat.tolist())))\n",
        "    iou_l.append(iou/len(y_org))\n",
        "    mse_l.append(mse/len(y_org))\n",
        "    write_csv(full_y,img)\n",
        "    if(cnt%20==0):\n",
        "      print('Testing Sample = ',cnt)\n",
        "    cnt+=1"
      ],
      "execution_count": null,
      "outputs": []
    },
    {
      "cell_type": "code",
      "metadata": {
        "execution": {
          "iopub.status.busy": "2021-08-09T16:32:39.451676Z",
          "iopub.execute_input": "2021-08-09T16:32:39.452081Z",
          "iopub.status.idle": "2021-08-09T16:33:09.615920Z",
          "shell.execute_reply.started": "2021-08-09T16:32:39.452048Z",
          "shell.execute_reply": "2021-08-09T16:33:09.613801Z"
        },
        "trusted": true,
        "id": "MybnNNO9w_lF"
      },
      "source": [
        "model = DeepQNetwork()\n",
        "train(model)"
      ],
      "execution_count": null,
      "outputs": []
    },
    {
      "cell_type": "code",
      "metadata": {
        "execution": {
          "iopub.status.busy": "2021-08-09T16:04:51.469309Z",
          "iopub.status.idle": "2021-08-09T16:04:51.469779Z"
        },
        "trusted": true,
        "id": "hNjkOiG2w_lG"
      },
      "source": [
        "model = DeepQNetwork()\n",
        "model.load_state_dict(torch.load('/content/drive/MyDrive/DenseQNet.pt'))\n",
        "model.eval()"
      ],
      "execution_count": null,
      "outputs": []
    },
    {
      "cell_type": "code",
      "metadata": {
        "id": "0xOcq4fj25x6"
      },
      "source": [
        "test(model)"
      ],
      "execution_count": null,
      "outputs": []
    }
  ]
}